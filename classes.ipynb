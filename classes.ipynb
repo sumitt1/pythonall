{
  "nbformat": 4,
  "nbformat_minor": 0,
  "metadata": {
    "colab": {
      "provenance": [],
      "authorship_tag": "ABX9TyM18M3YhNK63sY9dzLdtof7",
      "include_colab_link": true
    },
    "kernelspec": {
      "name": "python3",
      "display_name": "Python 3"
    },
    "language_info": {
      "name": "python"
    }
  },
  "cells": [
    {
      "cell_type": "markdown",
      "metadata": {
        "id": "view-in-github",
        "colab_type": "text"
      },
      "source": [
        "<a href=\"https://colab.research.google.com/github/sumitt1/pythonall/blob/master/classes.ipynb\" target=\"_parent\"><img src=\"https://colab.research.google.com/assets/colab-badge.svg\" alt=\"Open In Colab\"/></a>"
      ]
    },
    {
      "cell_type": "code",
      "source": [
        "class Person:\n",
        "    pass\n",
        "\n",
        "person = Person()  # Creating an instance of the Person class\n",
        "\n",
        "person.name = \"John\"  # Assigning a value to the name attribute\n",
        "person.age = 30      # Assigning a value to the age attribute\n",
        "\n",
        "print(person.name)  # Output: John\n",
        "print(person.age)   # Output: 30\n"
      ],
      "metadata": {
        "colab": {
          "base_uri": "https://localhost:8080/"
        },
        "id": "ELEpsWQUPzQ0",
        "outputId": "60490b8d-e4ef-439f-abdd-675d8166ac5f"
      },
      "execution_count": 14,
      "outputs": [
        {
          "output_type": "stream",
          "name": "stdout",
          "text": [
            "John\n",
            "30\n"
          ]
        }
      ]
    },
    {
      "cell_type": "code",
      "source": [
        "class Person:\n",
        "    def __init__(self):\n",
        "        pass\n",
        "\n",
        "    @classmethod\n",
        "    def create(cls, name, age):\n",
        "        person = cls()\n",
        "        person.name = name\n",
        "        person.age = age\n",
        "        return person\n",
        "\n",
        "person = Person.create(\"John\", 30)\n",
        "\n",
        "print(person.name)  # Output: John\n",
        "print(person.age)   # Output: 30\n"
      ],
      "metadata": {
        "colab": {
          "base_uri": "https://localhost:8080/"
        },
        "id": "qsB_0vnUQfKc",
        "outputId": "f291e46a-dba5-4947-9203-4df07d01cb9d"
      },
      "execution_count": 15,
      "outputs": [
        {
          "output_type": "stream",
          "name": "stdout",
          "text": [
            "John\n",
            "30\n"
          ]
        }
      ]
    },
    {
      "cell_type": "code",
      "execution_count": 13,
      "metadata": {
        "colab": {
          "base_uri": "https://localhost:8080/",
          "height": 241
        },
        "id": "SQO38LJMDNcK",
        "outputId": "cc0a552e-9865-48fe-fe14-d5267d72c30d"
      },
      "outputs": [
        {
          "output_type": "error",
          "ename": "TypeError",
          "evalue": "ignored",
          "traceback": [
            "\u001b[0;31m---------------------------------------------------------------------------\u001b[0m",
            "\u001b[0;31mTypeError\u001b[0m                                 Traceback (most recent call last)",
            "\u001b[0;32m<ipython-input-13-5f7175ac4ba8>\u001b[0m in \u001b[0;36m<cell line: 7>\u001b[0;34m()\u001b[0m\n\u001b[1;32m      5\u001b[0m \u001b[0md\u001b[0m\u001b[0;34m=\u001b[0m\u001b[0;34m(\u001b[0m\u001b[0;34m)\u001b[0m\u001b[0;34m\u001b[0m\u001b[0;34m\u001b[0m\u001b[0m\n\u001b[1;32m      6\u001b[0m \u001b[0me\u001b[0m\u001b[0;34m=\u001b[0m\u001b[0mset\u001b[0m\u001b[0;34m(\u001b[0m\u001b[0;34m)\u001b[0m\u001b[0;34m\u001b[0m\u001b[0;34m\u001b[0m\u001b[0m\n\u001b[0;32m----> 7\u001b[0;31m \u001b[0mprint\u001b[0m\u001b[0;34m(\u001b[0m\u001b[0ma\u001b[0m\u001b[0;34m+\u001b[0m\u001b[0mn\u001b[0m\u001b[0;34m)\u001b[0m\u001b[0;34m\u001b[0m\u001b[0;34m\u001b[0m\u001b[0m\n\u001b[0m\u001b[1;32m      8\u001b[0m \u001b[0mprint\u001b[0m\u001b[0;34m(\u001b[0m\u001b[0mtype\u001b[0m\u001b[0;34m(\u001b[0m\u001b[0ma\u001b[0m\u001b[0;34m)\u001b[0m\u001b[0;34m)\u001b[0m\u001b[0;34m\u001b[0m\u001b[0;34m\u001b[0m\u001b[0m\n\u001b[1;32m      9\u001b[0m \u001b[0mprint\u001b[0m\u001b[0;34m(\u001b[0m\u001b[0mtype\u001b[0m\u001b[0;34m(\u001b[0m\u001b[0mb\u001b[0m\u001b[0;34m)\u001b[0m\u001b[0;34m)\u001b[0m\u001b[0;34m\u001b[0m\u001b[0;34m\u001b[0m\u001b[0m\n",
            "\u001b[0;31mTypeError\u001b[0m: unsupported operand type(s) for +: 'set' and 'set'"
          ]
        }
      ],
      "source": [
        "a={1,2,3}\n",
        "n={4,5,6}\n",
        "b={'a':1,'b':2}\n",
        "c=([])\n",
        "d=()\n",
        "e=set()\n",
        "#print(an)\n",
        "print(type(a))\n",
        "print(type(b))\n",
        "print(type(c))\n",
        "print(type(d))\n",
        "print(type(e))\n",
        "\n"
      ]
    },
    {
      "cell_type": "code",
      "source": [
        "numbers = {21, 34, 54, 12}\n",
        "capital_city = {\"Nepal\": \"Kathmandu\", \"Italy\": \"Rome\", \"England\": \"London\"}\n",
        "number = {1: \"One\", 2: \"Two\", 3: \"Three\"}\n",
        "capital_city[\"Japan\"] = \"Tokyo\"\n",
        "\n",
        "print(\"Updated Dictionary: \",capital_city)\n",
        "print(numbers)\n",
        "print(capital_city)\n",
        "print('Initial Set:',numbers)\n",
        "# using add() method\n",
        "numbers.add(32)\n",
        "\n",
        "print('Updated Set:', numbers) "
      ],
      "metadata": {
        "colab": {
          "base_uri": "https://localhost:8080/"
        },
        "id": "BlcS4ym5Few1",
        "outputId": "b68cbcd6-31c4-4bba-d88d-0ce5ec6f4dab"
      },
      "execution_count": 12,
      "outputs": [
        {
          "output_type": "stream",
          "name": "stdout",
          "text": [
            "Updated Dictionary:  {'Nepal': 'Kathmandu', 'Italy': 'Rome', 'England': 'London', 'Japan': 'Tokyo'}\n",
            "{34, 12, 21, 54}\n",
            "{'Nepal': 'Kathmandu', 'Italy': 'Rome', 'England': 'London', 'Japan': 'Tokyo'}\n",
            "Initial Set: {34, 12, 21, 54}\n",
            "Updated Set: {32, 34, 12, 21, 54}\n"
          ]
        }
      ]
    }
  ]
}