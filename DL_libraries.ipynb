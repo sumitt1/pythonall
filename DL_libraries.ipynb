{
  "nbformat": 4,
  "nbformat_minor": 0,
  "metadata": {
    "colab": {
      "provenance": [],
      "authorship_tag": "ABX9TyOMiFOOpaYbnN9Xbz8mXPh0"
    },
    "kernelspec": {
      "name": "python3",
      "display_name": "Python 3"
    },
    "language_info": {
      "name": "python"
    }
  },
  "cells": [
    {
      "cell_type": "code",
      "execution_count": null,
      "metadata": {
        "id": "Dfq981aSCshU",
        "colab": {
          "base_uri": "https://localhost:8080/"
        },
        "outputId": "4530b8f4-403c-4cee-e11e-5bcb1f302213"
      },
      "outputs": [
        {
          "output_type": "stream",
          "name": "stdout",
          "text": [
            "Reading package lists... Done\n",
            "Building dependency tree       \n",
            "Reading state information... Done\n",
            "The following additional packages will be installed:\n",
            "  libpython3.7-minimal libpython3.7-stdlib python3.7-minimal\n",
            "Suggested packages:\n",
            "  python3.7-venv binfmt-support\n",
            "The following NEW packages will be installed:\n",
            "  libpython3.7-minimal libpython3.7-stdlib python3.7 python3.7-minimal\n",
            "0 upgraded, 4 newly installed, 0 to remove and 34 not upgraded.\n",
            "Need to get 4,530 kB of archives.\n",
            "After this operation, 23.3 MB of additional disk space will be used.\n",
            "Get:1 http://ppa.launchpad.net/deadsnakes/ppa/ubuntu focal/main amd64 libpython3.7-minimal amd64 3.7.16-1+focal1 [588 kB]\n",
            "Get:2 http://ppa.launchpad.net/deadsnakes/ppa/ubuntu focal/main amd64 python3.7-minimal amd64 3.7.16-1+focal1 [1,808 kB]\n",
            "Get:3 http://ppa.launchpad.net/deadsnakes/ppa/ubuntu focal/main amd64 libpython3.7-stdlib amd64 3.7.16-1+focal1 [1,773 kB]\n",
            "Get:4 http://ppa.launchpad.net/deadsnakes/ppa/ubuntu focal/main amd64 python3.7 amd64 3.7.16-1+focal1 [360 kB]\n",
            "Fetched 4,530 kB in 3s (1,572 kB/s)\n",
            "debconf: unable to initialize frontend: Dialog\n",
            "debconf: (No usable dialog-like program is installed, so the dialog based frontend cannot be used. at /usr/share/perl5/Debconf/FrontEnd/Dialog.pm line 76, <> line 4.)\n",
            "debconf: falling back to frontend: Readline\n",
            "debconf: unable to initialize frontend: Readline\n",
            "debconf: (This frontend requires a controlling tty.)\n",
            "debconf: falling back to frontend: Teletype\n",
            "dpkg-preconfigure: unable to re-open stdin: \n",
            "Selecting previously unselected package libpython3.7-minimal:amd64.\n",
            "(Reading database ... 122545 files and directories currently installed.)\n",
            "Preparing to unpack .../libpython3.7-minimal_3.7.16-1+focal1_amd64.deb ...\n",
            "Unpacking libpython3.7-minimal:amd64 (3.7.16-1+focal1) ...\n",
            "Selecting previously unselected package python3.7-minimal.\n",
            "Preparing to unpack .../python3.7-minimal_3.7.16-1+focal1_amd64.deb ...\n",
            "Unpacking python3.7-minimal (3.7.16-1+focal1) ...\n",
            "Selecting previously unselected package libpython3.7-stdlib:amd64.\n",
            "Preparing to unpack .../libpython3.7-stdlib_3.7.16-1+focal1_amd64.deb ...\n",
            "Unpacking libpython3.7-stdlib:amd64 (3.7.16-1+focal1) ...\n",
            "Selecting previously unselected package python3.7.\n",
            "Preparing to unpack .../python3.7_3.7.16-1+focal1_amd64.deb ...\n",
            "Unpacking python3.7 (3.7.16-1+focal1) ...\n",
            "Setting up libpython3.7-minimal:amd64 (3.7.16-1+focal1) ...\n",
            "Setting up python3.7-minimal (3.7.16-1+focal1) ...\n",
            "Setting up libpython3.7-stdlib:amd64 (3.7.16-1+focal1) ...\n",
            "Setting up python3.7 (3.7.16-1+focal1) ...\n",
            "Processing triggers for man-db (2.9.1-1) ...\n",
            "Processing triggers for mime-support (3.64ubuntu1) ...\n",
            "There are 3 choices for the alternative python3 (providing /usr/bin/python3).\n",
            "\n",
            "  Selection    Path                 Priority   Status\n",
            "------------------------------------------------------------\n",
            "* 0            /usr/bin/python3.10   2         auto mode\n",
            "  1            /usr/bin/python3.10   2         manual mode\n",
            "  2            /usr/bin/python3.7    1         manual mode\n",
            "  3            /usr/bin/python3.8    1         manual mode\n",
            "\n",
            "Press <enter> to keep the current choice[*], or type selection number: "
          ]
        }
      ],
      "source": [
        "!sudo apt-get install python3.7\n",
        "!sudo update-alternatives --install /usr/bin/python3 python3 /usr/bin/python3.7 1\n",
        "!sudo update-alternatives --config python3\n",
        "!sudo apt install python3-pip"
      ]
    },
    {
      "cell_type": "code",
      "source": [
        "!pip install torchfold"
      ],
      "metadata": {
        "id": "r-HZQeLcMaF-"
      },
      "execution_count": null,
      "outputs": []
    },
    {
      "cell_type": "markdown",
      "source": [
        "##There are several alternative deep learning frameworks to PyTorch that you can consider, depending on your specific requirements and preferences. Here are some popular alternatives:\n",
        "\n",
        "1. TensorFlow: TensorFlow is one of the most widely used deep learning frameworks. It provides a comprehensive ecosystem of tools and libraries for developing and deploying machine learning models. TensorFlow offers both high-level and low-level APIs and supports multiple programming languages, including Python, C++, and JavaScript.\n",
        "\n",
        "2. Keras: Keras is a high-level deep learning framework that runs on top of TensorFlow. It provides a user-friendly interface for building and training neural networks. Keras focuses on simplicity and ease of use, making it a popular choice for beginners and rapid prototyping.\n",
        "\n",
        "3. Caffe: Caffe is a deep learning framework developed for efficiency and speed. It is well-suited for training deep neural networks with large-scale datasets. Caffe has a C++ library with a Python interface and supports various model architectures, including convolutional neural networks (CNNs) and recurrent neural networks (RNNs).\n",
        "\n",
        "4. MXNet: MXNet is a flexible and efficient deep learning framework that offers both high-level and low-level APIs. It provides support for multiple programming languages, including Python, R, and Julia. MXNet is known for its scalability and ability to distribute training across multiple devices and machines.\n",
        "\n",
        "5. Theano: Theano is a deep learning library that allows you to define, optimize, and evaluate mathematical expressions efficiently, especially those involving multi-dimensional arrays. It provides a low-level programming interface for building and training neural networks.\n",
        "\n",
        "6. Chainer: Chainer is a flexible and intuitive deep learning framework that emphasizes dynamic computation graphs. It allows you to define models and modify them on the fly, which can be useful for research purposes. Chainer supports both CPUs and GPUs for efficient computation.\n",
        "\n",
        "These are just a few examples of the many deep learning frameworks available. Each framework has its own strengths and characteristics, so it's a good idea to explore their documentation, community support, and sample code to determine which one best fits your needs."
      ],
      "metadata": {
        "id": "WgIQCMEzQ6rB"
      }
    },
    {
      "cell_type": "code",
      "source": [
        "import tensorflow as tf\n",
        "from tensorflow import keras\n",
        "import caffe\n",
        "import mxnet as mx\n",
        "import theano\n",
        "import chainer\n",
        "\n",
        "def pytorch_example():\n",
        "    import torch\n",
        "    import torch.nn as nn\n",
        "    import torch.optim as optim\n",
        "\n",
        "    # Your PyTorch code here\n",
        "    pass\n",
        "\n",
        "def tensorflow_example():\n",
        "    # Your TensorFlow code here\n",
        "    pass\n",
        "\n",
        "def keras_example():\n",
        "    # Your Keras code here\n",
        "    pass\n",
        "\n",
        "def caffe_example():\n",
        "    # Your Caffe code here\n",
        "    pass\n",
        "\n",
        "def mxnet_example():\n",
        "    # Your MXNet code here\n",
        "    pass\n",
        "\n",
        "def theano_example():\n",
        "    # Your Theano code here\n",
        "    pass\n",
        "\n",
        "def chainer_example():\n",
        "    # Your Chainer code here\n",
        "    pass\n"
      ],
      "metadata": {
        "id": "C8WWRnf4RCFo"
      },
      "execution_count": null,
      "outputs": []
    },
    {
      "cell_type": "code",
      "source": [],
      "metadata": {
        "id": "09bMgfFZQ3CC"
      },
      "execution_count": null,
      "outputs": []
    }
  ]
}