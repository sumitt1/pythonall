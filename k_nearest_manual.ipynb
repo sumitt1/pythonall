{
  "nbformat": 4,
  "nbformat_minor": 0,
  "metadata": {
    "colab": {
      "provenance": [],
      "authorship_tag": "ABX9TyMVQz5glDs8W64af4eJRxU8",
      "include_colab_link": true
    },
    "kernelspec": {
      "name": "python3",
      "display_name": "Python 3"
    },
    "language_info": {
      "name": "python"
    }
  },
  "cells": [
    {
      "cell_type": "markdown",
      "metadata": {
        "id": "view-in-github",
        "colab_type": "text"
      },
      "source": [
        "<a href=\"https://colab.research.google.com/github/sumitt1/pythonall/blob/master/k_nearest_manual.ipynb\" target=\"_parent\"><img src=\"https://colab.research.google.com/assets/colab-badge.svg\" alt=\"Open In Colab\"/></a>"
      ]
    },
    {
      "cell_type": "code",
      "execution_count": 3,
      "metadata": {
        "colab": {
          "base_uri": "https://localhost:8080/"
        },
        "id": "guawZD_KIE0z",
        "outputId": "b5ff3cf6-8110-4300-eb65-371b25e5adc4"
      },
      "outputs": [
        {
          "output_type": "stream",
          "name": "stdout",
          "text": [
            "[11  7  2  3  8 13 18]\n",
            "[2 3 1 4 0 5 6]\n",
            "[2 3 1]\n",
            "[10 15  5]\n"
          ]
        }
      ],
      "source": [
        "import numpy as np\n",
        "\n",
        "def find_k_nearest_neighbors(array, value, k):\n",
        "    # Calculate the absolute differences between the array elements and the value\n",
        "    differences = np.abs(array - value)\n",
        "\n",
        "    print(differences)\n",
        "    # Sort the array indices based on the differences\n",
        "    sorted_indices = np.argsort(differences)\n",
        "    print(sorted_indices)\n",
        "    \n",
        "    # Get the first k indices (nearest neighbors)\n",
        "    k_indices = sorted_indices[:k]\n",
        "    print(k_indices)\n",
        "   \n",
        "    # Get the corresponding values from the original array\n",
        "    nearest_neighbors = array[k_indices]\n",
        "\n",
        "\n",
        "    return nearest_neighbors\n",
        "\n",
        "# Example usage\n",
        "my_array = np.array([1, 5, 10, 15, 20, 25, 30])\n",
        "my_value = 12\n",
        "k = 3\n",
        "\n",
        "nearest_neighbors = find_k_nearest_neighbors(my_array, my_value, k)\n",
        "print(nearest_neighbors)\n"
      ]
    }
  ]
}