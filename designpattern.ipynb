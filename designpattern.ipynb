{
  "nbformat": 4,
  "nbformat_minor": 0,
  "metadata": {
    "colab": {
      "provenance": [],
      "authorship_tag": "ABX9TyOxnCxnfFzZSvB+B10jh79I",
      "include_colab_link": true
    },
    "kernelspec": {
      "name": "python3",
      "display_name": "Python 3"
    },
    "language_info": {
      "name": "python"
    }
  },
  "cells": [
    {
      "cell_type": "markdown",
      "metadata": {
        "id": "view-in-github",
        "colab_type": "text"
      },
      "source": [
        "<a href=\"https://colab.research.google.com/github/sumitt1/pythonall/blob/master/designpattern.ipynb\" target=\"_parent\"><img src=\"https://colab.research.google.com/assets/colab-badge.svg\" alt=\"Open In Colab\"/></a>"
      ]
    },
    {
      "cell_type": "code",
      "execution_count": 1,
      "metadata": {
        "colab": {
          "base_uri": "https://localhost:8080/"
        },
        "id": "ushE6-DXRSQu",
        "outputId": "18fc9945-b946-4cb2-df94-b1c5b967eaf5"
      },
      "outputs": [
        {
          "output_type": "stream",
          "name": "stdout",
          "text": [
            "True\n"
          ]
        }
      ],
      "source": [
        "class Singleton:\n",
        "    _instance = None\n",
        "\n",
        "    def __new__(cls):\n",
        "        if not cls._instance:\n",
        "            cls._instance = super().__new__(cls)\n",
        "        return cls._instance\n",
        "\n",
        "# Usage\n",
        "obj1 = Singleton()\n",
        "obj2 = Singleton()\n",
        "print(obj1 is obj2)  # True\n"
      ]
    },
    {
      "cell_type": "code",
      "source": [
        "class Product:\n",
        "    def display(self):\n",
        "        pass\n",
        "\n",
        "class ProductA(Product):\n",
        "    def display(self):\n",
        "        print(\"Product A\")\n",
        "\n",
        "class ProductB(Product):\n",
        "    def display(self):\n",
        "        print(\"Product B\")\n",
        "\n",
        "class ProductFactory:\n",
        "    def create_product(self, product_type):\n",
        "        if product_type == \"A\":\n",
        "            return ProductA()\n",
        "        elif product_type == \"B\":\n",
        "            return ProductB()\n",
        "        else:\n",
        "            raise ValueError(\"Invalid product type\")\n",
        "\n",
        "# Usage\n",
        "factory = ProductFactory()\n",
        "product_a = factory.create_product(\"A\")\n",
        "product_a.display()  # Output: Product A\n",
        "product_b = factory.create_product(\"B\")\n",
        "product_b.display()  # Output: Product B\n"
      ],
      "metadata": {
        "colab": {
          "base_uri": "https://localhost:8080/"
        },
        "id": "WLVqbVxgSECs",
        "outputId": "cbc6d44e-5e1b-4004-cc45-dba8a8f81342"
      },
      "execution_count": 2,
      "outputs": [
        {
          "output_type": "stream",
          "name": "stdout",
          "text": [
            "Product A\n",
            "Product B\n"
          ]
        }
      ]
    },
    {
      "cell_type": "code",
      "source": [
        "class Observer:\n",
        "    def update(self, data):\n",
        "        pass\n",
        "\n",
        "class Subject:\n",
        "    def __init__(self):\n",
        "        self.observers = []\n",
        "\n",
        "    def attach(self, observer):\n",
        "        self.observers.append(observer)\n",
        "\n",
        "    def detach(self, observer):\n",
        "        self.observers.remove(observer)\n",
        "\n",
        "    def notify(self, data):\n",
        "        for observer in self.observers:\n",
        "            observer.update(data)\n",
        "\n",
        "# Usage\n",
        "class ConcreteObserver(Observer):\n",
        "    def update(self, data):\n",
        "        print(f\"Received data: {data}\")\n",
        "\n",
        "subject = Subject()\n",
        "observer1 = ConcreteObserver()\n",
        "observer2 = ConcreteObserver()\n",
        "subject.attach(observer1)\n",
        "subject.attach(observer2)\n",
        "subject.notify(\"Hello\")  # Output: Received data: Hello (twice)\n",
        "subject.detach(observer2)\n",
        "subject.notify(\"World\")  # Output: Received data: World\n",
        "\n"
      ],
      "metadata": {
        "colab": {
          "base_uri": "https://localhost:8080/"
        },
        "id": "NYIhghKwSwEh",
        "outputId": "f5e6f4cf-8c00-4983-ee97-e797ee0d5f9a"
      },
      "execution_count": 3,
      "outputs": [
        {
          "output_type": "stream",
          "name": "stdout",
          "text": [
            "Received data: Hello\n",
            "Received data: Hello\n",
            "Received data: World\n"
          ]
        }
      ]
    }
  ]
}