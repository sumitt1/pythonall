{
  "nbformat": 4,
  "nbformat_minor": 0,
  "metadata": {
    "colab": {
      "provenance": [],
      "authorship_tag": "ABX9TyOvXCAoMGxnxF7kUVevBBap",
      "include_colab_link": true
    },
    "kernelspec": {
      "name": "python3",
      "display_name": "Python 3"
    },
    "language_info": {
      "name": "python"
    }
  },
  "cells": [
    {
      "cell_type": "markdown",
      "metadata": {
        "id": "view-in-github",
        "colab_type": "text"
      },
      "source": [
        "<a href=\"https://colab.research.google.com/github/sumitt1/pythonall/blob/master/collection_casting.ipynb\" target=\"_parent\"><img src=\"https://colab.research.google.com/assets/colab-badge.svg\" alt=\"Open In Colab\"/></a>"
      ]
    },
    {
      "cell_type": "code",
      "execution_count": 1,
      "metadata": {
        "colab": {
          "base_uri": "https://localhost:8080/"
        },
        "id": "ULBWU609XxNe",
        "outputId": "a75b3a27-9c1f-4edf-cc47-da9609b244f0"
      },
      "outputs": [
        {
          "output_type": "stream",
          "name": "stdout",
          "text": [
            "{1, 2, 3, 4, 5}\n"
          ]
        }
      ],
      "source": [
        "my_immutable_set = frozenset([1, 2, 3, 4, 5])\n",
        "my_mutable_set = set(my_immutable_set)\n",
        "print(my_mutable_set)  # Output: {1, 2, 3, 4, 5}\n"
      ]
    },
    {
      "cell_type": "code",
      "source": [
        "import gc as gc\n",
        "my_string = \"Hello\"\n",
        "my_list = list(my_string)\n",
        "print(my_list)  # Output: ['H', 'e', 'l', 'l', 'o']\n",
        "gc.isenabled()"
      ],
      "metadata": {
        "colab": {
          "base_uri": "https://localhost:8080/"
        },
        "id": "20Y0CMQ_X9qh",
        "outputId": "7788a862-f9f1-4b70-a1c1-773f1b46ba3f"
      },
      "execution_count": 7,
      "outputs": [
        {
          "output_type": "stream",
          "name": "stdout",
          "text": [
            "['H', 'e', 'l', 'l', 'o']\n"
          ]
        },
        {
          "output_type": "execute_result",
          "data": {
            "text/plain": [
              "True"
            ]
          },
          "metadata": {},
          "execution_count": 7
        }
      ]
    },
    {
      "cell_type": "code",
      "source": [
        "my_tuple = (1, 2, 3, 4, 5)\n",
        "my_list = list(my_tuple)\n",
        "print(my_list)  # Output: [1, 2, 3, 4, 5]\n"
      ],
      "metadata": {
        "colab": {
          "base_uri": "https://localhost:8080/"
        },
        "id": "A3Yl4O4eYD9i",
        "outputId": "972b20e5-e69a-49ee-9b78-56570c85fb91"
      },
      "execution_count": 3,
      "outputs": [
        {
          "output_type": "stream",
          "name": "stdout",
          "text": [
            "[1, 2, 3, 4, 5]\n"
          ]
        }
      ]
    },
    {
      "cell_type": "code",
      "source": [
        "my_list = ['H', 'e', 'l', 'l', 'o']\n",
        "my_string = ''.join(my_list)\n",
        "print(my_string)  # Output: \"Hello\"\n"
      ],
      "metadata": {
        "colab": {
          "base_uri": "https://localhost:8080/"
        },
        "id": "JblYYgn2YbhY",
        "outputId": "686cc8ac-8085-4220-855d-4377d17c3c29"
      },
      "execution_count": 4,
      "outputs": [
        {
          "output_type": "stream",
          "name": "stdout",
          "text": [
            "Hello\n"
          ]
        }
      ]
    },
    {
      "cell_type": "code",
      "source": [
        "my_set = {1, 2, 3, 4, 5}\n",
        "my_list = list(my_set)\n",
        "print(my_list)  # Output: [1, 2, 3, 4, 5]\n"
      ],
      "metadata": {
        "colab": {
          "base_uri": "https://localhost:8080/"
        },
        "id": "OdSuukEFYepm",
        "outputId": "bf0efb52-e465-4b64-dcaf-c648100ca4af"
      },
      "execution_count": 5,
      "outputs": [
        {
          "output_type": "stream",
          "name": "stdout",
          "text": [
            "[1, 2, 3, 4, 5]\n"
          ]
        }
      ]
    }
  ]
}