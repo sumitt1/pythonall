{
  "nbformat": 4,
  "nbformat_minor": 0,
  "metadata": {
    "colab": {
      "provenance": [],
      "authorship_tag": "ABX9TyNNSNNbbLLIh5F1JM+X8E6/"
    },
    "kernelspec": {
      "name": "python3",
      "display_name": "Python 3"
    },
    "language_info": {
      "name": "python"
    }
  },
  "cells": [
    {
      "cell_type": "code",
      "execution_count": 1,
      "metadata": {
        "id": "MmtXSVaosrzt",
        "outputId": "101ae0f5-1f57-49f6-ad43-5340e4ad39e0",
        "colab": {
          "base_uri": "https://localhost:8080/",
          "height": 384
        }
      },
      "outputs": [
        {
          "output_type": "error",
          "ename": "ModuleNotFoundError",
          "evalue": "ignored",
          "traceback": [
            "\u001b[0;31m---------------------------------------------------------------------------\u001b[0m",
            "\u001b[0;31mModuleNotFoundError\u001b[0m                       Traceback (most recent call last)",
            "\u001b[0;32m<ipython-input-1-3d39e33d83a9>\u001b[0m in \u001b[0;36m<cell line: 1>\u001b[0;34m()\u001b[0m\n\u001b[0;32m----> 1\u001b[0;31m \u001b[0;32mimport\u001b[0m \u001b[0mgpt_2_simple\u001b[0m \u001b[0;32mas\u001b[0m \u001b[0mgpt2\u001b[0m\u001b[0;34m\u001b[0m\u001b[0;34m\u001b[0m\u001b[0m\n\u001b[0m\u001b[1;32m      2\u001b[0m \u001b[0;34m\u001b[0m\u001b[0m\n\u001b[1;32m      3\u001b[0m \u001b[0;31m# Download the GPT-2 model if it is not already downloaded\u001b[0m\u001b[0;34m\u001b[0m\u001b[0;34m\u001b[0m\u001b[0m\n\u001b[1;32m      4\u001b[0m \u001b[0mgpt2\u001b[0m\u001b[0;34m.\u001b[0m\u001b[0mdownload_gpt2\u001b[0m\u001b[0;34m(\u001b[0m\u001b[0;34m)\u001b[0m\u001b[0;34m\u001b[0m\u001b[0;34m\u001b[0m\u001b[0m\n\u001b[1;32m      5\u001b[0m \u001b[0;34m\u001b[0m\u001b[0m\n",
            "\u001b[0;31mModuleNotFoundError\u001b[0m: No module named 'gpt_2_simple'",
            "",
            "\u001b[0;31m---------------------------------------------------------------------------\u001b[0;32m\nNOTE: If your import is failing due to a missing package, you can\nmanually install dependencies using either !pip or !apt.\n\nTo view examples of installing some common dependencies, click the\n\"Open Examples\" button below.\n\u001b[0;31m---------------------------------------------------------------------------\u001b[0m\n"
          ],
          "errorDetails": {
            "actions": [
              {
                "action": "open_url",
                "actionText": "Open Examples",
                "url": "/notebooks/snippets/importing_libraries.ipynb"
              }
            ]
          }
        }
      ],
      "source": [
        "import gpt_2_simple as gpt2\n",
        "import nltk\n",
        "nltk.download('punkt')\n",
        "\n",
        "# Start a TensorFlow session\n",
        "sess = gpt2.start_tf_sess()\n",
        "\n",
        "# Fine-tune the model\n",
        "dataset_path = \"D:/dataset.txt\"\n",
        "checkpoint_dir = \"D:/check\"\n",
        "\n",
        "# Tokenization and truncation\n",
        "max_tokens = 256\n",
        "\n",
        "def truncate_tokens(text, max_tokens):\n",
        "    tokens = nltk.word_tokenize(text)\n",
        "    truncated_tokens = tokens[:max_tokens]\n",
        "    truncated_text = ' '.join(truncated_tokens)\n",
        "    return truncated_text\n",
        "\n",
        "with open(dataset_path, 'r') as f:\n",
        "    dataset_content = f.readlines()\n",
        "\n",
        "preprocessed_dataset = []\n",
        "\n",
        "for line in dataset_content:\n",
        "    truncated_line = truncate_tokens(line, max_tokens)\n",
        "    preprocessed_dataset.append(truncated_line)\n",
        "\n",
        "preprocessed_dataset_path = \"D:/preprocessed_dataset.txt\"\n",
        "\n",
        "with open(preprocessed_dataset_path, 'w') as f:\n",
        "    f.write('\\n'.join(preprocessed_dataset))\n",
        "\n",
        "# Fine-tune with the preprocessed dataset\n",
        "gpt2.finetune(sess, preprocessed_dataset_path, steps=1000, checkpoint_dir=checkpoint_dir, batch_size=4)\n",
        "\n",
        "# Generate text with the fine-tuned model\n",
        "gpt2.load_gpt2(sess, checkpoint_dir=checkpoint_dir)\n",
        "\n",
        "prompt = \"Once upon a time\"\n",
        "generated_text = gpt2.generate(sess, prefix=prompt, length=100, temperature=0.7, return_as_list=True)[0]\n",
        "\n",
        "print(generated_text)\n"
      ]
    }
  ]
}