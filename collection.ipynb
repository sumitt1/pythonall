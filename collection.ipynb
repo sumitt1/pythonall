{
  "nbformat": 4,
  "nbformat_minor": 0,
  "metadata": {
    "colab": {
      "provenance": [],
      "authorship_tag": "ABX9TyMQC0g9lrwCKoMrV0Un/IKT",
      "include_colab_link": true
    },
    "kernelspec": {
      "name": "python3",
      "display_name": "Python 3"
    },
    "language_info": {
      "name": "python"
    }
  },
  "cells": [
    {
      "cell_type": "markdown",
      "metadata": {
        "id": "view-in-github",
        "colab_type": "text"
      },
      "source": [
        "<a href=\"https://colab.research.google.com/github/sumitt1/pythonall/blob/master/collection.ipynb\" target=\"_parent\"><img src=\"https://colab.research.google.com/assets/colab-badge.svg\" alt=\"Open In Colab\"/></a>"
      ]
    },
    {
      "cell_type": "code",
      "execution_count": 5,
      "metadata": {
        "colab": {
          "base_uri": "https://localhost:8080/"
        },
        "id": "SQO38LJMDNcK",
        "outputId": "55f9cbbb-d111-4606-8a0e-ca974df837f0"
      },
      "outputs": [
        {
          "output_type": "stream",
          "name": "stdout",
          "text": [
            "<class 'set'>\n",
            "<class 'dict'>\n",
            "<class 'list'>\n",
            "<class 'tuple'>\n",
            "<class 'set'>\n"
          ]
        }
      ],
      "source": [
        "a={1,2,3}\n",
        "\n",
        "b={'a':1,'b':2}\n",
        "c=([])\n",
        "d=()\n",
        "e=set()\n",
        "\n",
        "print(type(a))\n",
        "print(type(b))\n",
        "print(type(c))\n",
        "print(type(d))\n",
        "print(type(e))\n",
        "\n"
      ]
    },
    {
      "cell_type": "code",
      "source": [
        "numbers = {21, 34, 54, 12}\n",
        "capital_city = {\"Nepal\": \"Kathmandu\", \"Italy\": \"Rome\", \"England\": \"London\"}\n",
        "number = {1: \"One\", 2: \"Two\", 3: \"Three\"}\n",
        "capital_city[\"Japan\"] = \"Tokyo\"\n",
        "\n",
        "print(\"Updated Dictionary: \",capital_city)\n",
        "print(numbers)\n",
        "print(capital_city)\n",
        "print('Initial Set:',numbers)\n",
        "# using add() method\n",
        "numbers.add(32)\n",
        "\n",
        "print('Updated Set:', numbers) "
      ],
      "metadata": {
        "colab": {
          "base_uri": "https://localhost:8080/"
        },
        "id": "BlcS4ym5Few1",
        "outputId": "b68cbcd6-31c4-4bba-d88d-0ce5ec6f4dab"
      },
      "execution_count": 12,
      "outputs": [
        {
          "output_type": "stream",
          "name": "stdout",
          "text": [
            "Updated Dictionary:  {'Nepal': 'Kathmandu', 'Italy': 'Rome', 'England': 'London', 'Japan': 'Tokyo'}\n",
            "{34, 12, 21, 54}\n",
            "{'Nepal': 'Kathmandu', 'Italy': 'Rome', 'England': 'London', 'Japan': 'Tokyo'}\n",
            "Initial Set: {34, 12, 21, 54}\n",
            "Updated Set: {32, 34, 12, 21, 54}\n"
          ]
        }
      ]
    }
  ]
}